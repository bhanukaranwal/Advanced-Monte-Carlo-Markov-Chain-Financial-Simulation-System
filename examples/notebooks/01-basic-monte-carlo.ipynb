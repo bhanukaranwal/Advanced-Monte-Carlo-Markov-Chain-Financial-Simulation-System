{
 "cells": [
  {
   "cell_type": "markdown",
   "metadata": {},
   "source": [
    "# Basic Monte Carlo Simulation\n",
    "\n",
    "This notebook demonstrates basic Monte Carlo simulation using the MCMF system."
   ]
  },
  {
   "cell_type": "code",
   "execution_count": null,
   "metadata": {},
   "outputs": [],
   "source": [
    "# Import required libraries\n",
    "import numpy as np\n",
    "import pandas as pd\n",
    "import matplotlib.pyplot as plt\n",
    "from monte_carlo_engine.gbm_engine import GeometricBrownianMotionEngine"
   ]
  },
  {
   "cell_type": "markdown",
   "metadata": {},
   "source": [
    "## Setup Simulation Parameters"
   ]
  },
  {
   "cell_type": "code",
   "execution_count": null,
   "metadata": {},
   "outputs": [],
   "source": [
    "# Simulation parameters\n",
    "n_simulations = 10000\n",
    "n_steps = 252  # One year of trading days\n",
    "initial_price = 100.0\n",
    "drift = 0.05  # 5% annual drift\n",
    "volatility = 0.2  # 20% annual volatility\n",
    "\n",
    "print(f\"Simulation Parameters:\")\n",
    "print(f\"Number of simulations: {n_simulations:,}\")\n",
    "print(f\"Time steps: {n_steps}\")\n",
    "print(f\"Initial price: ${initial_price}\")\n",
    "print(f\"Annual drift: {drift:.1%}\")\n",
    "print(f\"Annual volatility: {volatility:.1%}\")"
   ]
  },
  {
   "cell_type": "markdown",
   "metadata": {},
   "source": [
    "## Create and Run Simulation"
   ]
  },
  {
   "cell_type": "code",
   "execution_count": null,
   "metadata": {},
   "outputs": [],
   "source": [
    "# Create Monte Carlo engine\n",
    "engine = GeometricBrownianMotionEngine(\n",
    "    n_simulations=n_simulations,\n",
    "    n_steps=n_steps,\n",
    "    initial_price=initial_price,\n",
    "    drift=drift,\n",
    "    volatility=volatility,\n",
    "    random_seed=42  # For reproducible results\n",
    ")\n",
    "\n",
    "# Run simulation\n",
    "print(\"Running Monte Carlo simulation...\")\n",
    "paths = engine.simulate_paths()\n",
    "print(f\"Simulation complete! Generated {paths.shape} paths with {paths.shape[1]} time points.\")"
   ]
  },
  {
   "cell_type": "markdown",
   "metadata": {},
   "source": [
    "## Analyze Results"
   ]
  },
  {
   "cell_type": "code",
   "execution_count": null,
   "metadata": {},
   "outputs": [],
   "source": [
    "# Extract final prices\n",
    "final_prices = paths[:, -1]\n",
    "\n",
    "# Calculate statistics\n",
    "mean_final = np.mean(final_prices)\n",
    "std_final = np.std(final_prices)\n",
    "min_final = np.min(final_prices)\n",
    "max_final = np.max(final_prices)\n",
    "\n",
    "# Theoretical expected value\n",
    "theoretical_mean = initial_price * np.exp(drift)\n",
    "\n",
    "print(f\"\\nFinal Price Statistics:\")\n",
    "print(f\"Mean: ${mean_final:.2f} (Theoretical: ${theoretical_mean:.2f})\")\n",
    "print(f\"Standard Deviation: ${std_final:.2f}\")\n",
    "print(f\"Minimum: ${min_final:.2f}\")\n",
    "print(f\"Maximum: ${max_final:.2f}\")\n",
    "print(f\"\\nPercentiles:\")\n",
    "for p in [5, 25, 50, 75, 95]:\n",
    "    print(f\"{p}th percentile: ${np.percentile(final_prices, p):.2f}\")"
   ]
  },
  {
   "cell_type": "markdown",
   "metadata": {},
   "source": [
    "## Visualize Results"
   ]
  },
  {
   "cell_type": "code",
   "execution_count": null,
   "metadata": {},
   "outputs": [],
   "source": [
    "# Create visualizations\n",
    "fig, ((ax1, ax2), (ax3, ax4)) = plt.subplots(2, 2, figsize=(15, 10))\n",
    "\n",
    "# Plot sample paths\n",
    "time_axis = np.arange(n_steps + 1)\n",
    "for i in range(min(100, n_simulations)):  # Plot first 100 paths\n",
    "    ax1.plot(time_axis, paths[i], alpha=0.1, color='blue', linewidth=0.5)\n",
    "\n",
    "# Plot mean path\n",
    "mean_path = np.mean(paths, axis=0)\n",
    "ax1.plot(time_axis, mean_path, color='red', linewidth=2, label='Mean Path')\n",
    "ax1.set_title('Sample Price Paths')\n",
    "ax1.set_xlabel('Time Steps')\n",
    "ax1.set_ylabel('Price')\n",
    "ax1.legend()\n",
    "ax1.grid(True, alpha=0.3)\n",
    "\n",
    "# Final price distribution\n",
    "ax2.hist(final_prices, bins=50, alpha=0.7, color='blue', edgecolor='black')\n",
    "ax2.axvline(mean_final, color='red', linestyle='--', label=f'Mean: ${mean_final:.2f}')\n",
    "ax2.axvline(theoretical_mean, color='green', linestyle='--', label=f'Theoretical: ${theoretical_mean:.2f}')\n",
    "ax2.set_title('Final Price Distribution')\n",
    "ax2.set_xlabel('Final Price')\n",
    "ax2.set_ylabel('Frequency')\n",
    "ax2.legend()\n",
    "ax2.grid(True, alpha=0.3)\n",
    "\n",
    "# Returns distribution\n",
    "returns = np.diff(np.log(paths), axis=1)\n",
    "all_returns = returns.flatten()\n",
    "ax3.hist(all_returns, bins=50, alpha=0.7, color='green', edgecolor='black')\n",
    "ax3.set_title('Daily Returns Distribution')\n",
    "ax3.set_xlabel('Daily Return')\n",
    "ax3.set_ylabel('Frequency')\n",
    "ax3.grid(True, alpha=0.3)\n",
    "\n",
    "# Q-Q plot\n",
    "from scipy import stats\n",
    "stats.probplot(all_returns, dist=\"norm\", plot=ax4)\n",
    "ax4.set_title('Q-Q Plot vs Normal Distribution')\n",
    "ax4.grid(True, alpha=0.3)\n",
    "\n",
    "plt.tight_layout()\n",
    "plt.show()"
   ]
  }
 ],
 "metadata": {
  "kernelspec": {
   "display_name": "Python 3",
   "language": "python",
   "name": "python3"
  },
  "language_info": {
   "name": "python",
   "version": "3.10.0"
  }
 },
 "nbformat": 4,
 "nbformat_minor": 4
}
